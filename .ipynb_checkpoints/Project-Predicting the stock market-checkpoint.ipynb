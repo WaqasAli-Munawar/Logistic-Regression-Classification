{
 "cells": [
  {
   "cell_type": "markdown",
   "metadata": {},
   "source": [
    "In this project, we'll be working with data from the [S&P500 Index](https://en.wikipedia.org/wiki/S%26P_500_Index) (Standard and Poor's 500). The S&P500 is a stock market index. Before we get into what an index is, we'll need to get into the basics of the stock market."
   ]
  },
  {
   "cell_type": "markdown",
   "metadata": {},
   "source": [
    "Some companies are publicly traded, which means that anyone can buy and sell their shares on the open market. A share entitles the owner to some control over the direction of the company, and to some percentage (or share) of the earnings of the company. When we buy or sell shares, it's common to say that we're trading a stock."
   ]
  },
  {
   "cell_type": "markdown",
   "metadata": {},
   "source": [
    "The price of a share is based mainly on supply and demand for a given stock. For example, Apple stock has a price of 120 dollars per share as of December 2015 -- http://www.nasdaq.com/symbol/aapl. A stock that is in less demand, like Ford Motor Company, has a lower price -- http://finance.yahoo.com/q?s=F. Stock price is also influenced by other factors, including the number of shares a company has issued."
   ]
  },
  {
   "cell_type": "markdown",
   "metadata": {},
   "source": [
    "Stocks are traded daily, and the price can rise or fall from the beginning of a trading day to the end based on demand. Stocks that are in more in demand, such as Apple, are traded more often than stocks of smaller companies.\n",
    "\n",
    "Indexes aggregate the prices of multiple stocks together, and allow us to see how the market as a whole is performing. For example, \n",
    "* The [Dow Jones Industrial Average](https://en.wikipedia.org/wiki/Dow_Jones_Industrial_Average) aggregates the stock prices of 30 large American companies together. \n",
    "* The S&P500 Index aggregates the stock prices of 500 large companies. \n",
    "\n",
    "When an index fund goes up or down, we can say that the underlying market or sector it represents is also going up or down. For example, if the Dow Jones Industrial Average price goes down one day, we can say that American stocks overall went down (ie, most American stocks went down in price)."
   ]
  },
  {
   "cell_type": "markdown",
   "metadata": {},
   "source": [
    "We'll be using historical data on the price of the S&P500 Index to make predictions about future prices. Predicting whether an index will go up or down will help us forecast how the stock market as a whole will perform. Since stocks tend to correlate with how well the economy as a whole is performing, it can also help us make economic forecasts.\n",
    "\n",
    "There are also thousands of traders who make money by buying and selling [Exchange Traded Funds](https://en.wikipedia.org/wiki/Exchange-traded_fund). ETFs allow us to buy and sell indexes like stocks. This means that we could **buy** the S&P500 Index ETF when the price is low, and sell when it's high to make a profit. Creating a predictive model could allow traders to make money on the stock market.\n",
    "\n",
    "**Note: We shouldn't make trades with any models developed in this project. Trading stocks has risks, and nothing in this project constitutes stock trading advice.**"
   ]
  },
  {
   "cell_type": "markdown",
   "metadata": {},
   "source": [
    "In this project we'll be working with a csv file containing index prices. Each row in the file contains a daily record of the price of the S&P500 Index from `1950` to `2015`."
   ]
  },
  {
   "cell_type": "code",
   "execution_count": 1,
   "metadata": {},
   "outputs": [],
   "source": [
    "import pandas as pd\n",
    "import numpy as np\n",
    "import matplotlib.pyplot as plt"
   ]
  },
  {
   "cell_type": "code",
   "execution_count": 2,
   "metadata": {},
   "outputs": [
    {
     "data": {
      "text/html": [
       "<div>\n",
       "<style scoped>\n",
       "    .dataframe tbody tr th:only-of-type {\n",
       "        vertical-align: middle;\n",
       "    }\n",
       "\n",
       "    .dataframe tbody tr th {\n",
       "        vertical-align: top;\n",
       "    }\n",
       "\n",
       "    .dataframe thead th {\n",
       "        text-align: right;\n",
       "    }\n",
       "</style>\n",
       "<table border=\"1\" class=\"dataframe\">\n",
       "  <thead>\n",
       "    <tr style=\"text-align: right;\">\n",
       "      <th></th>\n",
       "      <th>Date</th>\n",
       "      <th>Open</th>\n",
       "      <th>High</th>\n",
       "      <th>Low</th>\n",
       "      <th>Close</th>\n",
       "      <th>Volume</th>\n",
       "      <th>Adj Close</th>\n",
       "    </tr>\n",
       "  </thead>\n",
       "  <tbody>\n",
       "    <tr>\n",
       "      <th>0</th>\n",
       "      <td>2015-12-07</td>\n",
       "      <td>2090.419922</td>\n",
       "      <td>2090.419922</td>\n",
       "      <td>2066.780029</td>\n",
       "      <td>2077.070068</td>\n",
       "      <td>4.043820e+09</td>\n",
       "      <td>2077.070068</td>\n",
       "    </tr>\n",
       "    <tr>\n",
       "      <th>1</th>\n",
       "      <td>2015-12-04</td>\n",
       "      <td>2051.239990</td>\n",
       "      <td>2093.840088</td>\n",
       "      <td>2051.239990</td>\n",
       "      <td>2091.689941</td>\n",
       "      <td>4.214910e+09</td>\n",
       "      <td>2091.689941</td>\n",
       "    </tr>\n",
       "    <tr>\n",
       "      <th>2</th>\n",
       "      <td>2015-12-03</td>\n",
       "      <td>2080.709961</td>\n",
       "      <td>2085.000000</td>\n",
       "      <td>2042.349976</td>\n",
       "      <td>2049.620117</td>\n",
       "      <td>4.306490e+09</td>\n",
       "      <td>2049.620117</td>\n",
       "    </tr>\n",
       "    <tr>\n",
       "      <th>3</th>\n",
       "      <td>2015-12-02</td>\n",
       "      <td>2101.709961</td>\n",
       "      <td>2104.270020</td>\n",
       "      <td>2077.110107</td>\n",
       "      <td>2079.510010</td>\n",
       "      <td>3.950640e+09</td>\n",
       "      <td>2079.510010</td>\n",
       "    </tr>\n",
       "    <tr>\n",
       "      <th>4</th>\n",
       "      <td>2015-12-01</td>\n",
       "      <td>2082.929932</td>\n",
       "      <td>2103.370117</td>\n",
       "      <td>2082.929932</td>\n",
       "      <td>2102.629883</td>\n",
       "      <td>3.712120e+09</td>\n",
       "      <td>2102.629883</td>\n",
       "    </tr>\n",
       "  </tbody>\n",
       "</table>\n",
       "</div>"
      ],
      "text/plain": [
       "         Date         Open         High          Low        Close  \\\n",
       "0  2015-12-07  2090.419922  2090.419922  2066.780029  2077.070068   \n",
       "1  2015-12-04  2051.239990  2093.840088  2051.239990  2091.689941   \n",
       "2  2015-12-03  2080.709961  2085.000000  2042.349976  2049.620117   \n",
       "3  2015-12-02  2101.709961  2104.270020  2077.110107  2079.510010   \n",
       "4  2015-12-01  2082.929932  2103.370117  2082.929932  2102.629883   \n",
       "\n",
       "         Volume    Adj Close  \n",
       "0  4.043820e+09  2077.070068  \n",
       "1  4.214910e+09  2091.689941  \n",
       "2  4.306490e+09  2049.620117  \n",
       "3  3.950640e+09  2079.510010  \n",
       "4  3.712120e+09  2102.629883  "
      ]
     },
     "execution_count": 2,
     "metadata": {},
     "output_type": "execute_result"
    }
   ],
   "source": [
    "sphist = pd.read_csv(\"sphist.csv\")\n",
    "sphist.head()"
   ]
  },
  {
   "cell_type": "markdown",
   "metadata": {},
   "source": [
    "The columns of the dataset are:\n",
    "\n",
    "* `Date` -- The date of the record.\n",
    "* `Open` -- The opening price of the day (when trading starts).\n",
    "* `High` -- The highest trade price during the day.\n",
    "* `Low` -- The lowest trade price during the day.\n",
    "* `Close` -- The closing price for the day (when trading is finished).\n",
    "* `Volume` -- The number of shares traded.\n",
    "* `Adj Close` -- The daily closing price, adjusted retroactively to include any corporate actions. Read more [here](https://www.investopedia.com/terms/a/adjusted_closing_price.asp)."
   ]
  },
  {
   "cell_type": "markdown",
   "metadata": {},
   "source": [
    "We'll be using this dataset to develop a predictive model. We'll train the model with data from `1950-2012`, and try to make predictions from `2013-2015`."
   ]
  },
  {
   "cell_type": "code",
   "execution_count": 3,
   "metadata": {},
   "outputs": [],
   "source": [
    "sphist[\"Date\"] = pd.to_datetime(sphist[\"Date\"])"
   ]
  },
  {
   "cell_type": "code",
   "execution_count": 7,
   "metadata": {},
   "outputs": [],
   "source": [
    "sphist.sort_values(\"Date\", ascending = True, inplace = True)"
   ]
  },
  {
   "cell_type": "code",
   "execution_count": 8,
   "metadata": {},
   "outputs": [
    {
     "data": {
      "text/html": [
       "<div>\n",
       "<style scoped>\n",
       "    .dataframe tbody tr th:only-of-type {\n",
       "        vertical-align: middle;\n",
       "    }\n",
       "\n",
       "    .dataframe tbody tr th {\n",
       "        vertical-align: top;\n",
       "    }\n",
       "\n",
       "    .dataframe thead th {\n",
       "        text-align: right;\n",
       "    }\n",
       "</style>\n",
       "<table border=\"1\" class=\"dataframe\">\n",
       "  <thead>\n",
       "    <tr style=\"text-align: right;\">\n",
       "      <th></th>\n",
       "      <th>Date</th>\n",
       "      <th>Open</th>\n",
       "      <th>High</th>\n",
       "      <th>Low</th>\n",
       "      <th>Close</th>\n",
       "      <th>Volume</th>\n",
       "      <th>Adj Close</th>\n",
       "    </tr>\n",
       "  </thead>\n",
       "  <tbody>\n",
       "    <tr>\n",
       "      <th>16589</th>\n",
       "      <td>1950-01-03</td>\n",
       "      <td>16.66</td>\n",
       "      <td>16.66</td>\n",
       "      <td>16.66</td>\n",
       "      <td>16.66</td>\n",
       "      <td>1260000.0</td>\n",
       "      <td>16.66</td>\n",
       "    </tr>\n",
       "    <tr>\n",
       "      <th>16588</th>\n",
       "      <td>1950-01-04</td>\n",
       "      <td>16.85</td>\n",
       "      <td>16.85</td>\n",
       "      <td>16.85</td>\n",
       "      <td>16.85</td>\n",
       "      <td>1890000.0</td>\n",
       "      <td>16.85</td>\n",
       "    </tr>\n",
       "    <tr>\n",
       "      <th>16587</th>\n",
       "      <td>1950-01-05</td>\n",
       "      <td>16.93</td>\n",
       "      <td>16.93</td>\n",
       "      <td>16.93</td>\n",
       "      <td>16.93</td>\n",
       "      <td>2550000.0</td>\n",
       "      <td>16.93</td>\n",
       "    </tr>\n",
       "    <tr>\n",
       "      <th>16586</th>\n",
       "      <td>1950-01-06</td>\n",
       "      <td>16.98</td>\n",
       "      <td>16.98</td>\n",
       "      <td>16.98</td>\n",
       "      <td>16.98</td>\n",
       "      <td>2010000.0</td>\n",
       "      <td>16.98</td>\n",
       "    </tr>\n",
       "    <tr>\n",
       "      <th>16585</th>\n",
       "      <td>1950-01-09</td>\n",
       "      <td>17.08</td>\n",
       "      <td>17.08</td>\n",
       "      <td>17.08</td>\n",
       "      <td>17.08</td>\n",
       "      <td>2520000.0</td>\n",
       "      <td>17.08</td>\n",
       "    </tr>\n",
       "  </tbody>\n",
       "</table>\n",
       "</div>"
      ],
      "text/plain": [
       "            Date   Open   High    Low  Close     Volume  Adj Close\n",
       "16589 1950-01-03  16.66  16.66  16.66  16.66  1260000.0      16.66\n",
       "16588 1950-01-04  16.85  16.85  16.85  16.85  1890000.0      16.85\n",
       "16587 1950-01-05  16.93  16.93  16.93  16.93  2550000.0      16.93\n",
       "16586 1950-01-06  16.98  16.98  16.98  16.98  2010000.0      16.98\n",
       "16585 1950-01-09  17.08  17.08  17.08  17.08  2520000.0      17.08"
      ]
     },
     "execution_count": 8,
     "metadata": {},
     "output_type": "execute_result"
    }
   ],
   "source": [
    "sphist.head()"
   ]
  },
  {
   "cell_type": "code",
   "execution_count": 9,
   "metadata": {},
   "outputs": [
    {
     "data": {
      "text/html": [
       "<div>\n",
       "<style scoped>\n",
       "    .dataframe tbody tr th:only-of-type {\n",
       "        vertical-align: middle;\n",
       "    }\n",
       "\n",
       "    .dataframe tbody tr th {\n",
       "        vertical-align: top;\n",
       "    }\n",
       "\n",
       "    .dataframe thead th {\n",
       "        text-align: right;\n",
       "    }\n",
       "</style>\n",
       "<table border=\"1\" class=\"dataframe\">\n",
       "  <thead>\n",
       "    <tr style=\"text-align: right;\">\n",
       "      <th></th>\n",
       "      <th>Date</th>\n",
       "      <th>Open</th>\n",
       "      <th>High</th>\n",
       "      <th>Low</th>\n",
       "      <th>Close</th>\n",
       "      <th>Volume</th>\n",
       "      <th>Adj Close</th>\n",
       "    </tr>\n",
       "  </thead>\n",
       "  <tbody>\n",
       "    <tr>\n",
       "      <th>4</th>\n",
       "      <td>2015-12-01</td>\n",
       "      <td>2082.929932</td>\n",
       "      <td>2103.370117</td>\n",
       "      <td>2082.929932</td>\n",
       "      <td>2102.629883</td>\n",
       "      <td>3.712120e+09</td>\n",
       "      <td>2102.629883</td>\n",
       "    </tr>\n",
       "    <tr>\n",
       "      <th>3</th>\n",
       "      <td>2015-12-02</td>\n",
       "      <td>2101.709961</td>\n",
       "      <td>2104.270020</td>\n",
       "      <td>2077.110107</td>\n",
       "      <td>2079.510010</td>\n",
       "      <td>3.950640e+09</td>\n",
       "      <td>2079.510010</td>\n",
       "    </tr>\n",
       "    <tr>\n",
       "      <th>2</th>\n",
       "      <td>2015-12-03</td>\n",
       "      <td>2080.709961</td>\n",
       "      <td>2085.000000</td>\n",
       "      <td>2042.349976</td>\n",
       "      <td>2049.620117</td>\n",
       "      <td>4.306490e+09</td>\n",
       "      <td>2049.620117</td>\n",
       "    </tr>\n",
       "    <tr>\n",
       "      <th>1</th>\n",
       "      <td>2015-12-04</td>\n",
       "      <td>2051.239990</td>\n",
       "      <td>2093.840088</td>\n",
       "      <td>2051.239990</td>\n",
       "      <td>2091.689941</td>\n",
       "      <td>4.214910e+09</td>\n",
       "      <td>2091.689941</td>\n",
       "    </tr>\n",
       "    <tr>\n",
       "      <th>0</th>\n",
       "      <td>2015-12-07</td>\n",
       "      <td>2090.419922</td>\n",
       "      <td>2090.419922</td>\n",
       "      <td>2066.780029</td>\n",
       "      <td>2077.070068</td>\n",
       "      <td>4.043820e+09</td>\n",
       "      <td>2077.070068</td>\n",
       "    </tr>\n",
       "  </tbody>\n",
       "</table>\n",
       "</div>"
      ],
      "text/plain": [
       "        Date         Open         High          Low        Close  \\\n",
       "4 2015-12-01  2082.929932  2103.370117  2082.929932  2102.629883   \n",
       "3 2015-12-02  2101.709961  2104.270020  2077.110107  2079.510010   \n",
       "2 2015-12-03  2080.709961  2085.000000  2042.349976  2049.620117   \n",
       "1 2015-12-04  2051.239990  2093.840088  2051.239990  2091.689941   \n",
       "0 2015-12-07  2090.419922  2090.419922  2066.780029  2077.070068   \n",
       "\n",
       "         Volume    Adj Close  \n",
       "4  3.712120e+09  2102.629883  \n",
       "3  3.950640e+09  2079.510010  \n",
       "2  4.306490e+09  2049.620117  \n",
       "1  4.214910e+09  2091.689941  \n",
       "0  4.043820e+09  2077.070068  "
      ]
     },
     "execution_count": 9,
     "metadata": {},
     "output_type": "execute_result"
    }
   ],
   "source": [
    "sphist.tail()"
   ]
  },
  {
   "cell_type": "markdown",
   "metadata": {},
   "source": [
    "Datasets taken from the stock market need to be handled differently than datasets from other sectors when it comes time to make predictions. In a normal machine learning exercise, we treat each row as independent. \n",
    "* Stock market data is sequential, and each observation comes a day after the previous observation. Thus, the observations are not all independent, and we can't treat them as such.\n",
    "\n",
    "This means we have to be extra careful to not inject **future** knowledge into past rows when we do training and prediction. \n",
    "* Injecting future knowledge will make our model look good when we're training and testing it, but will make it fail in the real world. This is how many algorithmic traders lose money."
   ]
  },
  {
   "cell_type": "markdown",
   "metadata": {},
   "source": [
    "The time series nature of the data means that can generate indicators to make our model more accurate. For instance, we can create a new column that contains the average price of the last 10 trades for each row. This will incorporate information from multiple prior rows into one, and will make predictions much more accurate.\n",
    "\n",
    "When we do this, we have to be careful not to use the current row in the values we average. We want to teach the model how to predict the current price from historical prices. \n",
    "* If we include the current price in the prices we average, it will be equivalent to handing the answers to the model upfront, and will make it impossible to use in the **real world**, where we don't know the price upfront.\n",
    "\n",
    "Here are some indicators that are interesting to generate for each row:\n",
    "\n",
    "* The average price from the past 5 days.\n",
    "* The average price for the past 30 days.\n",
    "* The average price for the past 365 days.\n",
    "* The ratio between the average price for the past 5 days, and the average price for the past 365 days.\n",
    "* The standard deviation of the price over the past 5 days.\n",
    "* The standard deviation of the price over the past 365 days.\n",
    "* The ratio between the standard deviation for the past 5 days, and the standard deviation for the past 365 days."
   ]
  },
  {
   "cell_type": "markdown",
   "metadata": {},
   "source": [
    "**Days** means **trading days** -- so if we're computing the average of the past 5 days, it should be the 5 most recent dates before the current one. Assume that **price** means the `Close` column. Always be careful not to include the current price in these indicators! \n",
    "* We're predicting the next day price, so our indicators are designed to predict the current price from the previous prices.\n",
    "\n",
    "Some of these indicators require a **year** of historical data to compute. Our first day of data falls on `1950-01-03`, so the first day we can start computing indicators on is `1951-01-03`."
   ]
  },
  {
   "attachments": {
    "image.png": {
     "image/png": "[encoded data removed]"
    }
   },
   "cell_type": "markdown",
   "metadata": {},
   "source": [
    "To compute indicators, We'll need to loop through each day from `1951-01-03` to `2015-12-07` (the last day we have prices for). For instance, if we were computing the average price from the past 5 days, we'd start at `1951-01-03`, get the prices for each day from `1950-12-26` to `1951-01-02`, and find the average. \n",
    "\n",
    "The reason why we start on the 26th, and take more than 5 calendar days into account is because the stock market is shutdown on certain holidays. Since we're looking at the past 5 trading days, we need to look at more than 5 calendar days to find them. Here's a diagram showing how we average 5 days to get the average closing price for `1951-01-03`:\n",
    "\n",
    "![image.png](attachment:image.png)"
   ]
  },
  {
   "attachments": {
    "image.png": {
     "image/png": "[encoded data removed]"
    }
   },
   "cell_type": "markdown",
   "metadata": {},
   "source": [
    "We'd then move to `1951-01-04`, and find the average price from `1950-12-30` to `1951-01-03`. Here's a diagram showing how we might compute the average here:\n",
    "\n",
    "![image.png](attachment:image.png)"
   ]
  },
  {
   "attachments": {
    "image.png": {
     "image/png": "[encoded data removed]"
    }
   },
   "cell_type": "markdown",
   "metadata": {},
   "source": [
    "We'd keep repeating this process to compute all of the averages. Note how when we compute the average of the past 5 days for `1951-01-04`, we don't include `1951-01-04` in that average. It's critical not to do this, or our model won't work in the **real world**.\n",
    "\n",
    "Here's a table of how the first 10 dates would look if we computed the 5 day average closing price. `Close` is the closing price for that day, and **day_5** is the average of the past 5 trading closing prices at each row:\n",
    "\n",
    "![image.png](attachment:image.png)"
   ]
  },
  {
   "cell_type": "markdown",
   "metadata": {},
   "source": [
    "We are going to add **three (3) indicators** to the data set:\n",
    "\n",
    "* The average price from the past 5 days.\n",
    "* The average price for the past 30 days.\n",
    "* The average price for the past 365 days."
   ]
  },
  {
   "cell_type": "code",
   "execution_count": 13,
   "metadata": {},
   "outputs": [],
   "source": [
    "sphist['mean_close_5'] = sphist[\"Close\"].rolling(5).mean().shift(1)\n",
    "sphist['mean_close_30'] = sphist[\"Close\"].rolling(30).mean().shift(1)\n",
    "sphist['mean_close_365'] = sphist[\"Close\"].rolling(365).mean().shift(1)"
   ]
  },
  {
   "cell_type": "code",
   "execution_count": 11,
   "metadata": {},
   "outputs": [
    {
     "data": {
      "text/html": [
       "<div>\n",
       "<style scoped>\n",
       "    .dataframe tbody tr th:only-of-type {\n",
       "        vertical-align: middle;\n",
       "    }\n",
       "\n",
       "    .dataframe tbody tr th {\n",
       "        vertical-align: top;\n",
       "    }\n",
       "\n",
       "    .dataframe thead th {\n",
       "        text-align: right;\n",
       "    }\n",
       "</style>\n",
       "<table border=\"1\" class=\"dataframe\">\n",
       "  <thead>\n",
       "    <tr style=\"text-align: right;\">\n",
       "      <th></th>\n",
       "      <th>Date</th>\n",
       "      <th>Open</th>\n",
       "      <th>High</th>\n",
       "      <th>Low</th>\n",
       "      <th>Close</th>\n",
       "      <th>Volume</th>\n",
       "      <th>Adj Close</th>\n",
       "      <th>mean_close_5</th>\n",
       "      <th>mean_close_30</th>\n",
       "      <th>mean_close_365</th>\n",
       "    </tr>\n",
       "  </thead>\n",
       "  <tbody>\n",
       "    <tr>\n",
       "      <th>16589</th>\n",
       "      <td>1950-01-03</td>\n",
       "      <td>16.660000</td>\n",
       "      <td>16.660000</td>\n",
       "      <td>16.660000</td>\n",
       "      <td>16.660000</td>\n",
       "      <td>1260000.0</td>\n",
       "      <td>16.660000</td>\n",
       "      <td>NaN</td>\n",
       "      <td>NaN</td>\n",
       "      <td>NaN</td>\n",
       "    </tr>\n",
       "    <tr>\n",
       "      <th>16588</th>\n",
       "      <td>1950-01-04</td>\n",
       "      <td>16.850000</td>\n",
       "      <td>16.850000</td>\n",
       "      <td>16.850000</td>\n",
       "      <td>16.850000</td>\n",
       "      <td>1890000.0</td>\n",
       "      <td>16.850000</td>\n",
       "      <td>NaN</td>\n",
       "      <td>NaN</td>\n",
       "      <td>NaN</td>\n",
       "    </tr>\n",
       "    <tr>\n",
       "      <th>16587</th>\n",
       "      <td>1950-01-05</td>\n",
       "      <td>16.930000</td>\n",
       "      <td>16.930000</td>\n",
       "      <td>16.930000</td>\n",
       "      <td>16.930000</td>\n",
       "      <td>2550000.0</td>\n",
       "      <td>16.930000</td>\n",
       "      <td>NaN</td>\n",
       "      <td>NaN</td>\n",
       "      <td>NaN</td>\n",
       "    </tr>\n",
       "    <tr>\n",
       "      <th>16586</th>\n",
       "      <td>1950-01-06</td>\n",
       "      <td>16.980000</td>\n",
       "      <td>16.980000</td>\n",
       "      <td>16.980000</td>\n",
       "      <td>16.980000</td>\n",
       "      <td>2010000.0</td>\n",
       "      <td>16.980000</td>\n",
       "      <td>NaN</td>\n",
       "      <td>NaN</td>\n",
       "      <td>NaN</td>\n",
       "    </tr>\n",
       "    <tr>\n",
       "      <th>16585</th>\n",
       "      <td>1950-01-09</td>\n",
       "      <td>17.080000</td>\n",
       "      <td>17.080000</td>\n",
       "      <td>17.080000</td>\n",
       "      <td>17.080000</td>\n",
       "      <td>2520000.0</td>\n",
       "      <td>17.080000</td>\n",
       "      <td>NaN</td>\n",
       "      <td>NaN</td>\n",
       "      <td>NaN</td>\n",
       "    </tr>\n",
       "    <tr>\n",
       "      <th>16584</th>\n",
       "      <td>1950-01-10</td>\n",
       "      <td>17.030001</td>\n",
       "      <td>17.030001</td>\n",
       "      <td>17.030001</td>\n",
       "      <td>17.030001</td>\n",
       "      <td>2160000.0</td>\n",
       "      <td>17.030001</td>\n",
       "      <td>16.900</td>\n",
       "      <td>NaN</td>\n",
       "      <td>NaN</td>\n",
       "    </tr>\n",
       "    <tr>\n",
       "      <th>16583</th>\n",
       "      <td>1950-01-11</td>\n",
       "      <td>17.090000</td>\n",
       "      <td>17.090000</td>\n",
       "      <td>17.090000</td>\n",
       "      <td>17.090000</td>\n",
       "      <td>2630000.0</td>\n",
       "      <td>17.090000</td>\n",
       "      <td>16.974</td>\n",
       "      <td>NaN</td>\n",
       "      <td>NaN</td>\n",
       "    </tr>\n",
       "  </tbody>\n",
       "</table>\n",
       "</div>"
      ],
      "text/plain": [
       "            Date       Open       High        Low      Close     Volume  \\\n",
       "16589 1950-01-03  16.660000  16.660000  16.660000  16.660000  1260000.0   \n",
       "16588 1950-01-04  16.850000  16.850000  16.850000  16.850000  1890000.0   \n",
       "16587 1950-01-05  16.930000  16.930000  16.930000  16.930000  2550000.0   \n",
       "16586 1950-01-06  16.980000  16.980000  16.980000  16.980000  2010000.0   \n",
       "16585 1950-01-09  17.080000  17.080000  17.080000  17.080000  2520000.0   \n",
       "16584 1950-01-10  17.030001  17.030001  17.030001  17.030001  2160000.0   \n",
       "16583 1950-01-11  17.090000  17.090000  17.090000  17.090000  2630000.0   \n",
       "\n",
       "       Adj Close  mean_close_5  mean_close_30  mean_close_365  \n",
       "16589  16.660000           NaN            NaN             NaN  \n",
       "16588  16.850000           NaN            NaN             NaN  \n",
       "16587  16.930000           NaN            NaN             NaN  \n",
       "16586  16.980000           NaN            NaN             NaN  \n",
       "16585  17.080000           NaN            NaN             NaN  \n",
       "16584  17.030001        16.900            NaN             NaN  \n",
       "16583  17.090000        16.974            NaN             NaN  "
      ]
     },
     "execution_count": 11,
     "metadata": {},
     "output_type": "execute_result"
    }
   ],
   "source": [
    "sphist.head(7)"
   ]
  },
  {
   "cell_type": "code",
   "execution_count": 12,
   "metadata": {},
   "outputs": [
    {
     "data": {
      "text/html": [
       "<div>\n",
       "<style scoped>\n",
       "    .dataframe tbody tr th:only-of-type {\n",
       "        vertical-align: middle;\n",
       "    }\n",
       "\n",
       "    .dataframe tbody tr th {\n",
       "        vertical-align: top;\n",
       "    }\n",
       "\n",
       "    .dataframe thead th {\n",
       "        text-align: right;\n",
       "    }\n",
       "</style>\n",
       "<table border=\"1\" class=\"dataframe\">\n",
       "  <thead>\n",
       "    <tr style=\"text-align: right;\">\n",
       "      <th></th>\n",
       "      <th>Date</th>\n",
       "      <th>Open</th>\n",
       "      <th>High</th>\n",
       "      <th>Low</th>\n",
       "      <th>Close</th>\n",
       "      <th>Volume</th>\n",
       "      <th>Adj Close</th>\n",
       "      <th>mean_close_5</th>\n",
       "      <th>mean_close_30</th>\n",
       "      <th>mean_close_365</th>\n",
       "    </tr>\n",
       "  </thead>\n",
       "  <tbody>\n",
       "    <tr>\n",
       "      <th>4</th>\n",
       "      <td>2015-12-01</td>\n",
       "      <td>2082.929932</td>\n",
       "      <td>2103.370117</td>\n",
       "      <td>2082.929932</td>\n",
       "      <td>2102.629883</td>\n",
       "      <td>3.712120e+09</td>\n",
       "      <td>2102.629883</td>\n",
       "      <td>2087.024023</td>\n",
       "      <td>2073.984998</td>\n",
       "      <td>2035.531178</td>\n",
       "    </tr>\n",
       "    <tr>\n",
       "      <th>3</th>\n",
       "      <td>2015-12-02</td>\n",
       "      <td>2101.709961</td>\n",
       "      <td>2104.270020</td>\n",
       "      <td>2077.110107</td>\n",
       "      <td>2079.510010</td>\n",
       "      <td>3.950640e+09</td>\n",
       "      <td>2079.510010</td>\n",
       "      <td>2090.231982</td>\n",
       "      <td>2076.283993</td>\n",
       "      <td>2035.914082</td>\n",
       "    </tr>\n",
       "    <tr>\n",
       "      <th>2</th>\n",
       "      <td>2015-12-03</td>\n",
       "      <td>2080.709961</td>\n",
       "      <td>2085.000000</td>\n",
       "      <td>2042.349976</td>\n",
       "      <td>2049.620117</td>\n",
       "      <td>4.306490e+09</td>\n",
       "      <td>2049.620117</td>\n",
       "      <td>2088.306006</td>\n",
       "      <td>2077.908659</td>\n",
       "      <td>2036.234356</td>\n",
       "    </tr>\n",
       "    <tr>\n",
       "      <th>1</th>\n",
       "      <td>2015-12-04</td>\n",
       "      <td>2051.239990</td>\n",
       "      <td>2093.840088</td>\n",
       "      <td>2051.239990</td>\n",
       "      <td>2091.689941</td>\n",
       "      <td>4.214910e+09</td>\n",
       "      <td>2091.689941</td>\n",
       "      <td>2080.456006</td>\n",
       "      <td>2078.931331</td>\n",
       "      <td>2036.507343</td>\n",
       "    </tr>\n",
       "    <tr>\n",
       "      <th>0</th>\n",
       "      <td>2015-12-07</td>\n",
       "      <td>2090.419922</td>\n",
       "      <td>2090.419922</td>\n",
       "      <td>2066.780029</td>\n",
       "      <td>2077.070068</td>\n",
       "      <td>4.043820e+09</td>\n",
       "      <td>2077.070068</td>\n",
       "      <td>2080.771973</td>\n",
       "      <td>2080.237329</td>\n",
       "      <td>2036.869425</td>\n",
       "    </tr>\n",
       "  </tbody>\n",
       "</table>\n",
       "</div>"
      ],
      "text/plain": [
       "        Date         Open         High          Low        Close  \\\n",
       "4 2015-12-01  2082.929932  2103.370117  2082.929932  2102.629883   \n",
       "3 2015-12-02  2101.709961  2104.270020  2077.110107  2079.510010   \n",
       "2 2015-12-03  2080.709961  2085.000000  2042.349976  2049.620117   \n",
       "1 2015-12-04  2051.239990  2093.840088  2051.239990  2091.689941   \n",
       "0 2015-12-07  2090.419922  2090.419922  2066.780029  2077.070068   \n",
       "\n",
       "         Volume    Adj Close  mean_close_5  mean_close_30  mean_close_365  \n",
       "4  3.712120e+09  2102.629883   2087.024023    2073.984998     2035.531178  \n",
       "3  3.950640e+09  2079.510010   2090.231982    2076.283993     2035.914082  \n",
       "2  4.306490e+09  2049.620117   2088.306006    2077.908659     2036.234356  \n",
       "1  4.214910e+09  2091.689941   2080.456006    2078.931331     2036.507343  \n",
       "0  4.043820e+09  2077.070068   2080.771973    2080.237329     2036.869425  "
      ]
     },
     "execution_count": 12,
     "metadata": {},
     "output_type": "execute_result"
    }
   ],
   "source": [
    "sphist.tail()"
   ]
  },
  {
   "cell_type": "markdown",
   "metadata": {},
   "source": [
    "Since we're computing indicators that use historical data, there are some rows where there isn't enough historical data to generate them. Some of the indicators use `365` days of historical data and the dataset starts on `1950-01-03`. Thus, any rows that fall before `1951-01-03` don't have enough historical data to compute all the indicators. We'll need to remove these rows before we split the data.\n",
    "\n",
    "If we have a dataframe `df`, we can select any rows with the Date column greater than `1951-01-02` using `df[df[\"Date\"] > datetime(year=1951, month=1, day=2)]`."
   ]
  },
  {
   "cell_type": "code",
   "execution_count": 16,
   "metadata": {},
   "outputs": [],
   "source": [
    "#Remove the data before 1951-01-03\n",
    "\n",
    "import datetime as dt\n",
    "\n",
    "df_updated = sphist[sphist[\"Date\"] > dt.datetime(year=1951, month=1, day=2)]"
   ]
  },
  {
   "cell_type": "code",
   "execution_count": 17,
   "metadata": {},
   "outputs": [
    {
     "data": {
      "text/plain": [
       "Date              0\n",
       "Open              0\n",
       "High              0\n",
       "Low               0\n",
       "Close             0\n",
       "Volume            0\n",
       "Adj Close         0\n",
       "mean_close_5      0\n",
       "mean_close_30     0\n",
       "mean_close_365    0\n",
       "dtype: int64"
      ]
     },
     "execution_count": 17,
     "metadata": {},
     "output_type": "execute_result"
    }
   ],
   "source": [
    "# Drop all rows containing null values\n",
    "df_clean = df_updated.dropna(axis = 0)\n",
    "df_clean.isnull().sum()"
   ]
  },
  {
   "cell_type": "code",
   "execution_count": 18,
   "metadata": {},
   "outputs": [
    {
     "data": {
      "text/plain": [
       "(16225, 10)"
      ]
     },
     "execution_count": 18,
     "metadata": {},
     "output_type": "execute_result"
    }
   ],
   "source": [
    "df_clean.shape"
   ]
  },
  {
   "cell_type": "markdown",
   "metadata": {},
   "source": [
    "### Train and Test\n",
    "\n",
    "We are going to generate two new data frames to use in making our algorithm.\n",
    "\n",
    "* **train** should contain any rows in the data with a date less than `2013-01-01`.\n",
    "* **test** should contain any rows with a date greater than or equal to `2013-01-01`.\n",
    "\n",
    "Then the **linear regression model** will be used to train the train dataset and predict the test dataset. The **root of mean squared error (RMSE)** is also calculated to represent the forecast error."
   ]
  },
  {
   "cell_type": "markdown",
   "metadata": {},
   "source": [
    "* It's recommended to use **Mean Absolute Error**, also called **MAE**, as an error metric, because it will show you how **close** we were to the price in intuitive terms. \n",
    "* **Mean Squared Error**, or **MSE**, is an alternative that is more commonly used, but makes it harder to intuitively tell how far off we are from the true price because it squares the error."
   ]
  },
  {
   "cell_type": "code",
   "execution_count": 23,
   "metadata": {},
   "outputs": [],
   "source": [
    "from sklearn.linear_model import LinearRegression\n",
    "from sklearn.metrics import mean_squared_error, mean_absolute_error"
   ]
  },
  {
   "cell_type": "code",
   "execution_count": 24,
   "metadata": {},
   "outputs": [],
   "source": [
    "def train_test(df, features):\n",
    "    train  = df[df[\"Date\"] < dt.datetime(year=2013, month=1, day=1)]\n",
    "    test = df[df[\"Date\"] >= dt.datetime(year=2013, month=1, day=1)]\n",
    "    \n",
    "    #initialize model\n",
    "    lr = LinearRegression()\n",
    "    target = 'Close'\n",
    "\n",
    "    #Train\n",
    "    lr.fit(train[features], train[target])\n",
    "\n",
    "    #Test\n",
    "    predictions = lr.predict(test[features])\n",
    "\n",
    "    #Calculate error\n",
    "    mse = mean_squared_error(test[target], predictions)\n",
    "    rmse = np.sqrt(mse)\n",
    "    return rmse"
   ]
  },
  {
   "cell_type": "markdown",
   "metadata": {},
   "source": [
    "Let's apply the function to the three indicators that we have already added to the data set. \n",
    "* Leave out all of the original columns (`Close`, `High`, `Low`, `Open`, `Volume`, `Adj Close`, `Date`) when training our model. \n",
    "* These all contain knowledge of the future that you don't want to feed the model."
   ]
  },
  {
   "cell_type": "code",
   "execution_count": 25,
   "metadata": {},
   "outputs": [
    {
     "data": {
      "text/plain": [
       "22.220065324219618"
      ]
     },
     "execution_count": 25,
     "metadata": {},
     "output_type": "execute_result"
    }
   ],
   "source": [
    "features = ['mean_close_5', 'mean_close_30', 'mean_close_365']\n",
    "rmse = train_test(df_clean, features)\n",
    "rmse"
   ]
  },
  {
   "cell_type": "markdown",
   "metadata": {},
   "source": [
    "We are going to add two more indicators to see if it helps to improve the predictions and reduce the error.\n",
    "\n",
    "* The average volume over the past five days.\n",
    "* The average volume over the past year."
   ]
  },
  {
   "cell_type": "code",
   "execution_count": 32,
   "metadata": {},
   "outputs": [],
   "source": [
    "sphist['mean_volume_5'] = sphist['Volume'].rolling(5).mean().shift(1)\n",
    "sphist['mean_volume_365'] = sphist['Volume'].rolling(365).mean().shift(1)"
   ]
  },
  {
   "cell_type": "code",
   "execution_count": 33,
   "metadata": {},
   "outputs": [],
   "source": [
    "df_clean = sphist.copy().dropna(axis = 0)"
   ]
  },
  {
   "cell_type": "code",
   "execution_count": 34,
   "metadata": {},
   "outputs": [
    {
     "data": {
      "text/plain": [
       "732.2270657604481"
      ]
     },
     "execution_count": 34,
     "metadata": {},
     "output_type": "execute_result"
    }
   ],
   "source": [
    "features = ['mean_volume_5', 'mean_volume_365']\n",
    "rmse = train_test(df_clean, features)\n",
    "rmse"
   ]
  },
  {
   "cell_type": "code",
   "execution_count": 35,
   "metadata": {},
   "outputs": [
    {
     "data": {
      "text/plain": [
       "22.234505182937014"
      ]
     },
     "execution_count": 35,
     "metadata": {},
     "output_type": "execute_result"
    }
   ],
   "source": [
    "features = ['mean_close_5', 'mean_close_30', 'mean_close_365', 'mean_volume_5', 'mean_volume_365']\n",
    "rmse = train_test(df_clean, features)\n",
    "rmse"
   ]
  },
  {
   "cell_type": "markdown",
   "metadata": {},
   "source": [
    "Using the average values of the past days of the `Volume` column does not show improvement in prediction. Let's add the following indicators and see the result:\n",
    "\n",
    "* The **ratio** between the average price for the past 5 days, and the average price for the past 365 days.\n",
    "* The **ratio** between the standard deviation for the past 5 days, and the standard deviation for the past 365 days."
   ]
  },
  {
   "cell_type": "code",
   "execution_count": 36,
   "metadata": {},
   "outputs": [],
   "source": [
    "sphist['ratio_mean_close'] = sphist['mean_close_5']/sphist['mean_close_365']"
   ]
  },
  {
   "cell_type": "code",
   "execution_count": 37,
   "metadata": {},
   "outputs": [],
   "source": [
    "sphist['std_close_5'] = sphist['Close'].rolling(5).std().shift(1)\n",
    "sphist['std_close_365'] = sphist['Close'].rolling(365).std().shift(1)"
   ]
  },
  {
   "cell_type": "code",
   "execution_count": 38,
   "metadata": {},
   "outputs": [],
   "source": [
    "sphist['ratio_std_close'] = sphist['std_close_5']/sphist['std_close_365']"
   ]
  },
  {
   "cell_type": "code",
   "execution_count": 39,
   "metadata": {},
   "outputs": [],
   "source": [
    "df_clean = sphist.copy().dropna(axis = 0)"
   ]
  },
  {
   "cell_type": "code",
   "execution_count": 40,
   "metadata": {},
   "outputs": [
    {
     "data": {
      "text/plain": [
       "Open                0.999900\n",
       "High                0.999953\n",
       "Low                 0.999956\n",
       "Close               1.000000\n",
       "Volume              0.772817\n",
       "Adj Close           1.000000\n",
       "mean_close_5        0.999793\n",
       "mean_close_30       0.999189\n",
       "mean_close_365      0.988870\n",
       "mean_volume_5       0.780896\n",
       "mean_volume_365     0.784878\n",
       "ratio_mean_close    0.047782\n",
       "std_close_5         0.722414\n",
       "std_close_365       0.816103\n",
       "ratio_std_close     0.087018\n",
       "Name: Close, dtype: float64"
      ]
     },
     "execution_count": 40,
     "metadata": {},
     "output_type": "execute_result"
    }
   ],
   "source": [
    "df_clean.corr()['Close']"
   ]
  },
  {
   "cell_type": "markdown",
   "metadata": {},
   "source": [
    "The above correlation coefficients show that ratios are not correlated to the price. Let's make sure about that."
   ]
  },
  {
   "cell_type": "code",
   "execution_count": 41,
   "metadata": {},
   "outputs": [
    {
     "data": {
      "text/plain": [
       "22.17842049891205"
      ]
     },
     "execution_count": 41,
     "metadata": {},
     "output_type": "execute_result"
    }
   ],
   "source": [
    "features = ['mean_close_5', 'mean_close_365']\n",
    "rmse = train_test(df_clean, features)\n",
    "rmse"
   ]
  },
  {
   "cell_type": "code",
   "execution_count": 42,
   "metadata": {},
   "outputs": [
    {
     "data": {
      "text/plain": [
       "22.178149148967407"
      ]
     },
     "execution_count": 42,
     "metadata": {},
     "output_type": "execute_result"
    }
   ],
   "source": [
    "features = ['mean_close_5', 'mean_close_365', 'ratio_mean_close']\n",
    "rmse = train_test(df_clean, features)\n",
    "rmse"
   ]
  },
  {
   "cell_type": "code",
   "execution_count": 43,
   "metadata": {},
   "outputs": [
    {
     "data": {
      "text/plain": [
       "802.681605433897"
      ]
     },
     "execution_count": 43,
     "metadata": {},
     "output_type": "execute_result"
    }
   ],
   "source": [
    "features = ['std_close_5', 'std_close_365']\n",
    "rmse = train_test(df_clean, features)\n",
    "rmse"
   ]
  },
  {
   "cell_type": "code",
   "execution_count": 44,
   "metadata": {},
   "outputs": [
    {
     "data": {
      "text/plain": [
       "802.6811942172967"
      ]
     },
     "execution_count": 44,
     "metadata": {},
     "output_type": "execute_result"
    }
   ],
   "source": [
    "features = ['std_close_5', 'std_close_365', 'ratio_std_close']\n",
    "rmse = train_test(df_clean, features)\n",
    "rmse"
   ]
  },
  {
   "cell_type": "code",
   "execution_count": 45,
   "metadata": {},
   "outputs": [
    {
     "data": {
      "text/plain": [
       "22.151803990066913"
      ]
     },
     "execution_count": 45,
     "metadata": {},
     "output_type": "execute_result"
    }
   ],
   "source": [
    "features = ['ratio_mean_close', 'ratio_std_close', 'mean_close_5', 'mean_close_365', 'std_close_5', 'std_close_365']\n",
    "rmse = train_test(df_clean, features)\n",
    "rmse"
   ]
  },
  {
   "cell_type": "markdown",
   "metadata": {},
   "source": [
    "The ratios do not show a significant effect in reducing error.\n",
    "\n",
    "Let's check the **Date** column by creating the following indicators:\n",
    "\n",
    "* The **year** component of the date.\n",
    "* The **month** component of the date.\n",
    "* The **day** component of the date."
   ]
  },
  {
   "cell_type": "code",
   "execution_count": 46,
   "metadata": {},
   "outputs": [],
   "source": [
    "sphist['year'] = sphist['Date'].dt.strftime('%Y').astype(float)\n",
    "sphist['month'] =sphist['Date'].dt.strftime('%m').astype(float)\n",
    "sphist['day'] = sphist['Date'].dt.strftime('%d').astype(float)"
   ]
  },
  {
   "cell_type": "code",
   "execution_count": 47,
   "metadata": {},
   "outputs": [],
   "source": [
    "df_clean = sphist.copy().dropna(axis = 0)"
   ]
  },
  {
   "cell_type": "code",
   "execution_count": 48,
   "metadata": {},
   "outputs": [
    {
     "data": {
      "text/plain": [
       "Open                0.999900\n",
       "High                0.999953\n",
       "Low                 0.999956\n",
       "Close               1.000000\n",
       "Volume              0.772817\n",
       "Adj Close           1.000000\n",
       "mean_close_5        0.999793\n",
       "mean_close_30       0.999189\n",
       "mean_close_365      0.988870\n",
       "mean_volume_5       0.780896\n",
       "mean_volume_365     0.784878\n",
       "ratio_mean_close    0.047782\n",
       "std_close_5         0.722414\n",
       "std_close_365       0.816103\n",
       "ratio_std_close     0.087018\n",
       "year                0.872100\n",
       "month               0.005684\n",
       "day                -0.001525\n",
       "Name: Close, dtype: float64"
      ]
     },
     "execution_count": 48,
     "metadata": {},
     "output_type": "execute_result"
    }
   ],
   "source": [
    "df_clean.corr()['Close']"
   ]
  },
  {
   "cell_type": "code",
   "execution_count": 49,
   "metadata": {},
   "outputs": [
    {
     "name": "stdout",
     "output_type": "stream",
     "text": [
      "RMSE for features = ['year', 'month', 'day']:  719.8237863775871\n",
      "RMSE for features = ['mean_close_5', 'mean_close_365','year']:  22.193454834355283\n",
      "RMSE for features = ['mean_close_5', 'mean_close_365','year', 'month', 'day']:  22.185864104311733\n"
     ]
    }
   ],
   "source": [
    "features = ['year', 'month', 'day']\n",
    "rmse = train_test(df_clean, features)\n",
    "print(\"RMSE for features = ['year', 'month', 'day']: \", rmse)\n",
    "\n",
    "features = ['mean_close_5', 'mean_close_365','year']\n",
    "rmse = train_test(df_clean, features)\n",
    "print(\"RMSE for features = ['mean_close_5', 'mean_close_365','year']: \", rmse)\n",
    "\n",
    "features = ['mean_close_5', 'mean_close_365','year', 'month', 'day']\n",
    "rmse = train_test(df_clean, features)\n",
    "print(\"RMSE for features = ['mean_close_5', 'mean_close_365','year', 'month', 'day']: \", rmse)"
   ]
  },
  {
   "cell_type": "markdown",
   "metadata": {},
   "source": [
    "These indicators do not have a significant effect as well."
   ]
  },
  {
   "cell_type": "markdown",
   "metadata": {},
   "source": [
    "### Make predictions only one day ahead\n",
    "\n",
    "We are going to see if the accuracy would improve greatly by making predictions only one day ahead. For example, \n",
    "* Train a model using data from `1951-01-03` to `2013-01-02`, make predictions for `2013-01-03`, and then \n",
    "* Train another model using data from `1951-01-03` to `2013-01-03`, make predictions for `2013-01-04`, and so on. \n",
    "\n",
    "This more closely simulates what we'd do if we were trading using the algorithm."
   ]
  },
  {
   "cell_type": "code",
   "execution_count": 50,
   "metadata": {},
   "outputs": [],
   "source": [
    "def train_test(df, features, row):\n",
    "    \n",
    "    train  = df[df[\"Date\"] < row['Date']]\n",
    "    test = df[df[\"Date\"] == row['Date']]\n",
    "    \n",
    "    if len(train) == 0:\n",
    "        return np.nan\n",
    "    else:        \n",
    "        #initialize model\n",
    "        lr = LinearRegression()\n",
    "        target = 'Close'\n",
    "\n",
    "        #Train\n",
    "        lr.fit(train[features], train[target])\n",
    "\n",
    "        #Test\n",
    "        predictions = lr.predict(test[features])\n",
    "\n",
    "        #Calculate error\n",
    "        mse = mean_squared_error(test[target], predictions)\n",
    "        rmse = np.sqrt(mse)\n",
    "        return rmse"
   ]
  },
  {
   "cell_type": "markdown",
   "metadata": {},
   "source": [
    "We are going to test this new version of the **train_test** function with all indicators that we have already created."
   ]
  },
  {
   "cell_type": "code",
   "execution_count": 51,
   "metadata": {},
   "outputs": [],
   "source": [
    "features = ['ratio_mean_close', 'ratio_std_close', 'mean_close_5','mean_close_30', 'mean_close_365',\n",
    "            'mean_volume_5', 'mean_volume_365','std_close_5', 'std_close_365','year', 'month', 'day']\n",
    "\n",
    "rmses = df_clean.apply(lambda row: train_test(df_clean, features, row), axis = 1 )"
   ]
  },
  {
   "cell_type": "code",
   "execution_count": 52,
   "metadata": {},
   "outputs": [
    {
     "data": {
      "text/plain": [
       "5.482715957877814"
      ]
     },
     "execution_count": 52,
     "metadata": {},
     "output_type": "execute_result"
    }
   ],
   "source": [
    "rmse = np.mean(rmses)\n",
    "rmse"
   ]
  },
  {
   "cell_type": "markdown",
   "metadata": {},
   "source": [
    "The result shows a significantly lower error than the previous ones. We can say accuracy would improve greatly by making predictions only one day ahead."
   ]
  },
  {
   "cell_type": "markdown",
   "metadata": {},
   "source": [
    "### Summary and next steps\n",
    "\n",
    "In this project, We used S&P500 Index data from `1950` to `2015` to make predictions of the close day price of the index. \n",
    "* We practiced using the linear regression model with different indicators that we have added to the data set to make better predictions. \n",
    "* We also tried making predictions only one day ahead to improve the accuracy of the predictions and it significantly reduces the error."
   ]
  },
  {
   "cell_type": "markdown",
   "metadata": {},
   "source": [
    "### Next steps:\n",
    "\n",
    "* Try other techniques, like a random forest, and see if they perform better.\n",
    "* Make the system real-time by writing an automated script to download the latest data when the market closes, and make predictions for the next day."
   ]
  },
  {
   "cell_type": "code",
   "execution_count": null,
   "metadata": {},
   "outputs": [],
   "source": []
  }
 ],
 "metadata": {
  "kernelspec": {
   "display_name": "Python 3",
   "language": "python",
   "name": "python3"
  },
  "language_info": {
   "codemirror_mode": {
    "name": "ipython",
    "version": 3
   },
   "file_extension": ".py",
   "mimetype": "text/x-python",
   "name": "python",
   "nbconvert_exporter": "python",
   "pygments_lexer": "ipython3",
   "version": "3.7.6"
  }
 },
 "nbformat": 4,
 "nbformat_minor": 2
}
